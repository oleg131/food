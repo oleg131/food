{
 "cells": [
  {
   "cell_type": "code",
   "execution_count": 16,
   "metadata": {
    "ExecuteTime": {
     "end_time": "2016-03-09T16:46:10.212206",
     "start_time": "2016-03-09T16:46:10.208601"
    },
    "collapsed": true
   },
   "outputs": [],
   "source": [
    "import numpy as np\n",
    "import pandas as pd\n",
    "from scipy.optimize import fmin, minimize, fminbound\n",
    "\n",
    "from sklearn.metrics import mean_squared_error, mean_absolute_error\n",
    "\n",
    "import requests\n",
    "import json"
   ]
  },
  {
   "cell_type": "code",
   "execution_count": 17,
   "metadata": {
    "ExecuteTime": {
     "end_time": "2016-03-09T16:46:10.215104",
     "start_time": "2016-03-09T16:46:10.213355"
    },
    "collapsed": false
   },
   "outputs": [],
   "source": [
    "pd.set_option(\"display.max_colwidth\", 0)"
   ]
  },
  {
   "cell_type": "code",
   "execution_count": 200,
   "metadata": {
    "ExecuteTime": {
     "end_time": "2016-05-03T22:34:25.800729",
     "start_time": "2016-05-03T22:34:25.788173"
    },
    "collapsed": false
   },
   "outputs": [
    {
     "name": "stdout",
     "output_type": "stream",
     "text": [
      "{\n",
      "  \"stdin_port\": 53789, \n",
      "  \"ip\": \"127.0.0.1\", \n",
      "  \"control_port\": 37875, \n",
      "  \"hb_port\": 33716, \n",
      "  \"signature_scheme\": \"hmac-sha256\", \n",
      "  \"key\": \"7bfdb66f-7ad6-405c-999b-89adf7252a4f\", \n",
      "  \"shell_port\": 37704, \n",
      "  \"transport\": \"tcp\", \n",
      "  \"iopub_port\": 44846\n",
      "}\n",
      "\n",
      "Paste the above JSON into a file, and connect with:\n",
      "    $> ipython <app> --existing <file>\n",
      "or, if you are local, you can connect with just:\n",
      "    $> ipython <app> --existing /run/user/1014/jupyter/kernel-ec216574-84eb-4213-91db-0b3850df7f49.json \n",
      "or even just:\n",
      "    $> ipython <app> --existing \n",
      "if this is the most recent IPython session you have started.\n"
     ]
    }
   ],
   "source": [
    "%connect_info"
   ]
  },
  {
   "cell_type": "code",
   "execution_count": null,
   "metadata": {
    "collapsed": true
   },
   "outputs": [],
   "source": []
  },
  {
   "cell_type": "code",
   "execution_count": 295,
   "metadata": {
    "ExecuteTime": {
     "end_time": "2016-05-03T23:01:56.849366",
     "start_time": "2016-05-03T23:01:56.846140"
    },
    "collapsed": false
   },
   "outputs": [],
   "source": [
    "# Daily goal\n",
    "# Protein-Fat-Carbs-Energy\n",
    "\n",
    "y1 = 136; y2 = 95; y3 = 170\n",
    "y0 = y1*4+y2*8+y3*4\n",
    "y0 = 2000\n",
    "y = np.array([y1, y2, y3, y0])"
   ]
  },
  {
   "cell_type": "code",
   "execution_count": 296,
   "metadata": {
    "ExecuteTime": {
     "end_time": "2016-05-03T23:01:58.572268",
     "start_time": "2016-05-03T23:01:58.569136"
    },
    "collapsed": false
   },
   "outputs": [
    {
     "data": {
      "text/plain": [
       "array([ 136,   95,  170, 2000])"
      ]
     },
     "execution_count": 296,
     "metadata": {},
     "output_type": "execute_result"
    }
   ],
   "source": [
    "y"
   ]
  },
  {
   "cell_type": "code",
   "execution_count": 297,
   "metadata": {
    "ExecuteTime": {
     "end_time": "2016-05-03T23:02:01.850056",
     "start_time": "2016-05-03T23:02:01.845638"
    },
    "collapsed": true
   },
   "outputs": [],
   "source": [
    "# Relative MSE\n",
    "def mse(A, B):\n",
    "    return (((A - B)/A) ** 2).mean(axis=0)"
   ]
  },
  {
   "cell_type": "code",
   "execution_count": null,
   "metadata": {
    "ExecuteTime": {
     "end_time": "2016-03-09T15:54:44.111957",
     "start_time": "2016-03-09T15:54:44.108960"
    },
    "collapsed": false
   },
   "outputs": [],
   "source": []
  },
  {
   "cell_type": "code",
   "execution_count": 298,
   "metadata": {
    "ExecuteTime": {
     "end_time": "2016-05-03T23:02:08.631898",
     "start_time": "2016-05-03T23:02:08.629972"
    },
    "collapsed": true
   },
   "outputs": [],
   "source": [
    "apikey = '3jklPYmeuoykAvPVFSkTTXycJlxupddyBKtItMzg'"
   ]
  },
  {
   "cell_type": "code",
   "execution_count": 314,
   "metadata": {
    "ExecuteTime": {
     "end_time": "2016-05-03T23:08:21.488857",
     "start_time": "2016-05-03T23:08:21.485624"
    },
    "collapsed": false,
    "scrolled": true
   },
   "outputs": [],
   "source": [
    "def search_by_name(ITEM, n=5):\n",
    "    payload = {'api_key': apikey}\n",
    "    r = requests.get('http://api.nal.usda.gov/ndb/search/?format=json&q={}&sort=r'.format(ITEM), params=payload)\n",
    "    return pd.DataFrame(json.loads(r.text)['list']['item'][:n])"
   ]
  },
  {
   "cell_type": "code",
   "execution_count": 363,
   "metadata": {
    "ExecuteTime": {
     "end_time": "2016-05-03T23:17:04.085317",
     "start_time": "2016-05-03T23:17:04.081904"
    },
    "collapsed": true
   },
   "outputs": [],
   "source": [
    "def food_by_id(id):\n",
    "    payload = {'api_key': apikey,\n",
    "               'nutrients': [208, 203, 205, 204]\n",
    "              }\n",
    "    r = requests.get('http://api.nal.usda.gov/ndb/nutrients/?ndbno={}'.format(id), params=payload)\n",
    "    return json.loads(r.text)['report']['foods'][0]"
   ]
  },
  {
   "cell_type": "code",
   "execution_count": 348,
   "metadata": {
    "ExecuteTime": {
     "end_time": "2016-05-03T23:15:39.003361",
     "start_time": "2016-05-03T23:15:38.994540"
    },
    "collapsed": true
   },
   "outputs": [],
   "source": [
    "def refresh(idx, replace_with=None):\n",
    "    if replace_with is None:\n",
    "        for i, k in enumerate(groups):\n",
    "            v = foods[k]\n",
    "            if i == idx:\n",
    "                if k in ['Finfish and Shellfish Products', 'Beef Products', 'Lamb, Veal, and Game Products', 'Pork Products', \n",
    "                         'Poultry Products', 'Vegetables and Vegetable Products']:\n",
    "                    v = [i for i in v if 'raw' in i['name']]\n",
    "                p = np.random.choice(v, 1, False)\n",
    "\n",
    "                print 'Replaced {} with \\n{}'.format(picked[idx]['name'], p[0]['name'])\n",
    "                picked[idx] = p[0]\n",
    "    else:\n",
    "        replacement = food_by_id(replace_with)\n",
    "        print 'Replaced {} with {}'.format(picked[idx]['name'], replacement['name'])\n",
    "        picked[idx] = replacement\n",
    "    return [p['name'] for p in picked]"
   ]
  },
  {
   "cell_type": "code",
   "execution_count": 364,
   "metadata": {
    "ExecuteTime": {
     "end_time": "2016-05-03T23:17:06.525283",
     "start_time": "2016-05-03T23:17:06.278168"
    },
    "collapsed": false
   },
   "outputs": [
    {
     "data": {
      "text/plain": [
       "{u'measure': u'1.0 cup',\n",
       " u'name': u'Crustaceans, shrimp, mixed species, canned',\n",
       " u'ndbno': u'15152',\n",
       " u'nutrients': [{u'gm': 20.42,\n",
       "   u'nutrient': u'Protein',\n",
       "   u'nutrient_id': u'203',\n",
       "   u'unit': u'g',\n",
       "   u'value': u'26.14'},\n",
       "  {u'gm': 1.36,\n",
       "   u'nutrient': u'Total lipid (fat)',\n",
       "   u'nutrient_id': u'204',\n",
       "   u'unit': u'g',\n",
       "   u'value': u'1.74'},\n",
       "  {u'gm': 0.0,\n",
       "   u'nutrient': u'Carbohydrate, by difference',\n",
       "   u'nutrient_id': u'205',\n",
       "   u'unit': u'g',\n",
       "   u'value': u'0.00'},\n",
       "  {u'gm': 100.0,\n",
       "   u'nutrient': u'Energy',\n",
       "   u'nutrient_id': u'208',\n",
       "   u'unit': u'kcal',\n",
       "   u'value': u'128'}],\n",
       " u'weight': 128.0}"
      ]
     },
     "execution_count": 364,
     "metadata": {},
     "output_type": "execute_result"
    }
   ],
   "source": [
    "food_by_id(15152)"
   ]
  },
  {
   "cell_type": "code",
   "execution_count": null,
   "metadata": {
    "collapsed": true
   },
   "outputs": [],
   "source": []
  },
  {
   "cell_type": "code",
   "execution_count": 307,
   "metadata": {
    "ExecuteTime": {
     "end_time": "2016-05-03T23:06:29.616431",
     "start_time": "2016-05-03T23:06:29.377979"
    },
    "collapsed": false,
    "scrolled": true
   },
   "outputs": [
    {
     "data": {
      "text/html": [
       "<div>\n",
       "<table border=\"1\" class=\"dataframe\">\n",
       "  <thead>\n",
       "    <tr style=\"text-align: right;\">\n",
       "      <th></th>\n",
       "      <th>id</th>\n",
       "      <th>name</th>\n",
       "      <th>offset</th>\n",
       "    </tr>\n",
       "  </thead>\n",
       "  <tbody>\n",
       "    <tr>\n",
       "      <th>0</th>\n",
       "      <td>3500</td>\n",
       "      <td>American Indian/Alaska Native Foods</td>\n",
       "      <td>0</td>\n",
       "    </tr>\n",
       "    <tr>\n",
       "      <th>1</th>\n",
       "      <td>0300</td>\n",
       "      <td>Baby Foods</td>\n",
       "      <td>1</td>\n",
       "    </tr>\n",
       "    <tr>\n",
       "      <th>2</th>\n",
       "      <td>1800</td>\n",
       "      <td>Baked Products</td>\n",
       "      <td>2</td>\n",
       "    </tr>\n",
       "    <tr>\n",
       "      <th>3</th>\n",
       "      <td>1300</td>\n",
       "      <td>Beef Products</td>\n",
       "      <td>3</td>\n",
       "    </tr>\n",
       "    <tr>\n",
       "      <th>4</th>\n",
       "      <td>1400</td>\n",
       "      <td>Beverages</td>\n",
       "      <td>4</td>\n",
       "    </tr>\n",
       "    <tr>\n",
       "      <th>5</th>\n",
       "      <td>0800</td>\n",
       "      <td>Breakfast Cereals</td>\n",
       "      <td>5</td>\n",
       "    </tr>\n",
       "    <tr>\n",
       "      <th>6</th>\n",
       "      <td>2000</td>\n",
       "      <td>Cereal Grains and Pasta</td>\n",
       "      <td>6</td>\n",
       "    </tr>\n",
       "    <tr>\n",
       "      <th>7</th>\n",
       "      <td>0100</td>\n",
       "      <td>Dairy and Egg Products</td>\n",
       "      <td>7</td>\n",
       "    </tr>\n",
       "    <tr>\n",
       "      <th>8</th>\n",
       "      <td>2100</td>\n",
       "      <td>Fast Foods</td>\n",
       "      <td>8</td>\n",
       "    </tr>\n",
       "    <tr>\n",
       "      <th>9</th>\n",
       "      <td>0400</td>\n",
       "      <td>Fats and Oils</td>\n",
       "      <td>9</td>\n",
       "    </tr>\n",
       "    <tr>\n",
       "      <th>10</th>\n",
       "      <td>1500</td>\n",
       "      <td>Finfish and Shellfish Products</td>\n",
       "      <td>10</td>\n",
       "    </tr>\n",
       "    <tr>\n",
       "      <th>11</th>\n",
       "      <td>0900</td>\n",
       "      <td>Fruits and Fruit Juices</td>\n",
       "      <td>11</td>\n",
       "    </tr>\n",
       "    <tr>\n",
       "      <th>12</th>\n",
       "      <td>1700</td>\n",
       "      <td>Lamb, Veal, and Game Products</td>\n",
       "      <td>12</td>\n",
       "    </tr>\n",
       "    <tr>\n",
       "      <th>13</th>\n",
       "      <td>1600</td>\n",
       "      <td>Legumes and Legume Products</td>\n",
       "      <td>13</td>\n",
       "    </tr>\n",
       "    <tr>\n",
       "      <th>14</th>\n",
       "      <td>2200</td>\n",
       "      <td>Meals, Entrees, and Side Dishes</td>\n",
       "      <td>14</td>\n",
       "    </tr>\n",
       "    <tr>\n",
       "      <th>15</th>\n",
       "      <td>1200</td>\n",
       "      <td>Nut and Seed Products</td>\n",
       "      <td>15</td>\n",
       "    </tr>\n",
       "    <tr>\n",
       "      <th>16</th>\n",
       "      <td>1000</td>\n",
       "      <td>Pork Products</td>\n",
       "      <td>16</td>\n",
       "    </tr>\n",
       "    <tr>\n",
       "      <th>17</th>\n",
       "      <td>0500</td>\n",
       "      <td>Poultry Products</td>\n",
       "      <td>17</td>\n",
       "    </tr>\n",
       "    <tr>\n",
       "      <th>18</th>\n",
       "      <td>3600</td>\n",
       "      <td>Restaurant Foods</td>\n",
       "      <td>18</td>\n",
       "    </tr>\n",
       "    <tr>\n",
       "      <th>19</th>\n",
       "      <td>0700</td>\n",
       "      <td>Sausages and Luncheon Meats</td>\n",
       "      <td>19</td>\n",
       "    </tr>\n",
       "    <tr>\n",
       "      <th>20</th>\n",
       "      <td>2500</td>\n",
       "      <td>Snacks</td>\n",
       "      <td>20</td>\n",
       "    </tr>\n",
       "    <tr>\n",
       "      <th>21</th>\n",
       "      <td>0600</td>\n",
       "      <td>Soups, Sauces, and Gravies</td>\n",
       "      <td>21</td>\n",
       "    </tr>\n",
       "    <tr>\n",
       "      <th>22</th>\n",
       "      <td>0200</td>\n",
       "      <td>Spices and Herbs</td>\n",
       "      <td>22</td>\n",
       "    </tr>\n",
       "    <tr>\n",
       "      <th>23</th>\n",
       "      <td>1900</td>\n",
       "      <td>Sweets</td>\n",
       "      <td>23</td>\n",
       "    </tr>\n",
       "    <tr>\n",
       "      <th>24</th>\n",
       "      <td>1100</td>\n",
       "      <td>Vegetables and Vegetable Products</td>\n",
       "      <td>24</td>\n",
       "    </tr>\n",
       "  </tbody>\n",
       "</table>\n",
       "</div>"
      ],
      "text/plain": [
       "      id                                 name  offset\n",
       "0   3500  American Indian/Alaska Native Foods  0     \n",
       "1   0300  Baby Foods                           1     \n",
       "2   1800  Baked Products                       2     \n",
       "3   1300  Beef Products                        3     \n",
       "4   1400  Beverages                            4     \n",
       "5   0800  Breakfast Cereals                    5     \n",
       "6   2000  Cereal Grains and Pasta              6     \n",
       "7   0100  Dairy and Egg Products               7     \n",
       "8   2100  Fast Foods                           8     \n",
       "9   0400  Fats and Oils                        9     \n",
       "10  1500  Finfish and Shellfish Products       10    \n",
       "11  0900  Fruits and Fruit Juices              11    \n",
       "12  1700  Lamb, Veal, and Game Products        12    \n",
       "13  1600  Legumes and Legume Products          13    \n",
       "14  2200  Meals, Entrees, and Side Dishes      14    \n",
       "15  1200  Nut and Seed Products                15    \n",
       "16  1000  Pork Products                        16    \n",
       "17  0500  Poultry Products                     17    \n",
       "18  3600  Restaurant Foods                     18    \n",
       "19  0700  Sausages and Luncheon Meats          19    \n",
       "20  2500  Snacks                               20    \n",
       "21  0600  Soups, Sauces, and Gravies           21    \n",
       "22  0200  Spices and Herbs                     22    \n",
       "23  1900  Sweets                               23    \n",
       "24  1100  Vegetables and Vegetable Products    24    "
      ]
     },
     "execution_count": 307,
     "metadata": {},
     "output_type": "execute_result"
    }
   ],
   "source": [
    "payload = {'api_key': apikey,\n",
    "           'lt': 'g'\n",
    "           }\n",
    "r = requests.get('http://api.nal.usda.gov/ndb/list?format=json', params=payload)\n",
    "\n",
    "pd.DataFrame(json.loads(r.text)['list']['item']).sort_values('name')"
   ]
  },
  {
   "cell_type": "code",
   "execution_count": 378,
   "metadata": {
    "ExecuteTime": {
     "end_time": "2016-05-03T23:21:41.666370",
     "start_time": "2016-05-03T23:21:41.320802"
    },
    "collapsed": false,
    "scrolled": true
   },
   "outputs": [
    {
     "data": {
      "text/html": [
       "<div>\n",
       "<table border=\"1\" class=\"dataframe\">\n",
       "  <thead>\n",
       "    <tr style=\"text-align: right;\">\n",
       "      <th></th>\n",
       "      <th>group</th>\n",
       "      <th>name</th>\n",
       "      <th>ndbno</th>\n",
       "      <th>offset</th>\n",
       "    </tr>\n",
       "  </thead>\n",
       "  <tbody>\n",
       "    <tr>\n",
       "      <th>0</th>\n",
       "      <td>Cereal Grains and Pasta</td>\n",
       "      <td>Pasta, dry, unenriched</td>\n",
       "      <td>20420</td>\n",
       "      <td>0</td>\n",
       "    </tr>\n",
       "    <tr>\n",
       "      <th>1</th>\n",
       "      <td>Cereal Grains and Pasta</td>\n",
       "      <td>Pasta, cooked, unenriched, without added salt</td>\n",
       "      <td>20421</td>\n",
       "      <td>1</td>\n",
       "    </tr>\n",
       "    <tr>\n",
       "      <th>2</th>\n",
       "      <td>Cereal Grains and Pasta</td>\n",
       "      <td>Pasta, cooked, unenriched, with added salt</td>\n",
       "      <td>20521</td>\n",
       "      <td>2</td>\n",
       "    </tr>\n",
       "    <tr>\n",
       "      <th>3</th>\n",
       "      <td>Cereal Grains and Pasta</td>\n",
       "      <td>Pasta, whole grain, 51% whole wheat, remaining unenriched semolina, dry</td>\n",
       "      <td>20135</td>\n",
       "      <td>3</td>\n",
       "    </tr>\n",
       "    <tr>\n",
       "      <th>4</th>\n",
       "      <td>Cereal Grains and Pasta</td>\n",
       "      <td>Pasta, whole grain, 51% whole wheat, remaining unenriched semolina, cooked</td>\n",
       "      <td>20136</td>\n",
       "      <td>4</td>\n",
       "    </tr>\n",
       "  </tbody>\n",
       "</table>\n",
       "</div>"
      ],
      "text/plain": [
       "                     group  \\\n",
       "0  Cereal Grains and Pasta   \n",
       "1  Cereal Grains and Pasta   \n",
       "2  Cereal Grains and Pasta   \n",
       "3  Cereal Grains and Pasta   \n",
       "4  Cereal Grains and Pasta   \n",
       "\n",
       "                                                                         name  \\\n",
       "0  Pasta, dry, unenriched                                                       \n",
       "1  Pasta, cooked, unenriched, without added salt                                \n",
       "2  Pasta, cooked, unenriched, with added salt                                   \n",
       "3  Pasta, whole grain, 51% whole wheat, remaining unenriched semolina, dry      \n",
       "4  Pasta, whole grain, 51% whole wheat, remaining unenriched semolina, cooked   \n",
       "\n",
       "   ndbno  offset  \n",
       "0  20420  0       \n",
       "1  20421  1       \n",
       "2  20521  2       \n",
       "3  20135  3       \n",
       "4  20136  4       "
      ]
     },
     "execution_count": 378,
     "metadata": {},
     "output_type": "execute_result"
    }
   ],
   "source": [
    "search_by_name('pasta unenriched', 20)"
   ]
  },
  {
   "cell_type": "code",
   "execution_count": 320,
   "metadata": {
    "ExecuteTime": {
     "end_time": "2016-05-03T23:09:56.591771",
     "start_time": "2016-05-03T23:09:51.505927"
    },
    "collapsed": false
   },
   "outputs": [
    {
     "name": "stdout",
     "output_type": "stream",
     "text": [
      "0500 0900 1300 1500 1700 1600 1200 1000 1100 2000\n"
     ]
    }
   ],
   "source": [
    "foods = {}\n",
    "for fg in ['0500', '0900', '1300', '1500', '1700', '1600', '1200', '1000', '1100', '2000']:\n",
    "    print fg,\n",
    "    payload = {'api_key': apikey,\n",
    "               'fg': fg,\n",
    "               'nutrients': [208, 203, 205, 204],\n",
    "               'max': 1500,\n",
    "               'subset': 1\n",
    "              }\n",
    "    r = requests.get('http://api.nal.usda.gov/ndb/nutrients/', params=payload)\n",
    "    report = json.loads(r.text)['report']\n",
    "    foods[str(report['groups'][0]['description'])] = report['foods']"
   ]
  },
  {
   "cell_type": "code",
   "execution_count": 321,
   "metadata": {
    "ExecuteTime": {
     "end_time": "2016-05-03T23:10:03.625142",
     "start_time": "2016-05-03T23:10:03.621766"
    },
    "collapsed": false
   },
   "outputs": [
    {
     "data": {
      "text/plain": [
       "['Cereal Grains and Pasta',\n",
       " 'Finfish and Shellfish Products',\n",
       " 'Legumes and Legume Products',\n",
       " 'Vegetables and Vegetable Products',\n",
       " 'Beef Products',\n",
       " 'Lamb, Veal, and Game Products',\n",
       " 'Pork Products',\n",
       " 'Nut and Seed Products',\n",
       " 'Fruits and Fruit Juices',\n",
       " 'Poultry Products']"
      ]
     },
     "execution_count": 321,
     "metadata": {},
     "output_type": "execute_result"
    }
   ],
   "source": [
    "foods.keys()"
   ]
  },
  {
   "cell_type": "code",
   "execution_count": 338,
   "metadata": {
    "ExecuteTime": {
     "end_time": "2016-05-03T23:13:06.570144",
     "start_time": "2016-05-03T23:13:06.557369"
    },
    "collapsed": false
   },
   "outputs": [],
   "source": [
    "picked = []\n",
    "groups = []\n",
    "for k, v in foods.items():\n",
    "    if k in ['Vegetables and Vegetable Products']:\n",
    "        size = 2\n",
    "    elif k in ['Cereal Grains and Pasta']:\n",
    "        size = 2\n",
    "    else:\n",
    "        size = 1\n",
    "    if k in ['Finfish and Shellfish Products', 'Beef Products', 'Lamb, Veal, and Game Products', 'Pork Products', \n",
    "             'Poultry Products', 'Vegetables and Vegetable Products']:\n",
    "        v = [i for i in v if 'raw' in i['name']]\n",
    "    p = np.random.choice(v, size, False)\n",
    "    picked.append(p)\n",
    "    for i in range(size):\n",
    "        groups.append(k)\n",
    "picked = np.hstack(picked)\n",
    "names = [p['name'] for p in picked]"
   ]
  },
  {
   "cell_type": "code",
   "execution_count": 396,
   "metadata": {
    "ExecuteTime": {
     "end_time": "2016-05-03T23:25:07.960193",
     "start_time": "2016-05-03T23:25:07.957743"
    },
    "collapsed": false
   },
   "outputs": [
    {
     "name": "stdout",
     "output_type": "stream",
     "text": [
      "Replaced Fish, ocean perch, Atlantic, raw with \n",
      "Fish, tilapia, raw\n"
     ]
    }
   ],
   "source": [
    "names = refresh(2)"
   ]
  },
  {
   "cell_type": "code",
   "execution_count": 422,
   "metadata": {
    "ExecuteTime": {
     "end_time": "2016-05-03T23:40:11.376095",
     "start_time": "2016-05-03T23:40:11.314802"
    },
    "collapsed": false,
    "scrolled": false
   },
   "outputs": [
    {
     "name": "stdout",
     "output_type": "stream",
     "text": [
      "[ 136   95  170 2000]\n",
      "[  135.    94.   169.  2028.]\n"
     ]
    },
    {
     "data": {
      "text/html": [
       "<div>\n",
       "<table border=\"1\" class=\"dataframe\">\n",
       "  <thead>\n",
       "    <tr style=\"text-align: right;\">\n",
       "      <th></th>\n",
       "      <th>amount, g</th>\n",
       "      <th>amount, lbs</th>\n",
       "      <th>amount, oz</th>\n",
       "      <th>group</th>\n",
       "      <th>name</th>\n",
       "      <th>protein</th>\n",
       "      <th>fat</th>\n",
       "      <th>carbs</th>\n",
       "      <th>energy</th>\n",
       "    </tr>\n",
       "  </thead>\n",
       "  <tbody>\n",
       "    <tr>\n",
       "      <th>0</th>\n",
       "      <td>611</td>\n",
       "      <td>1.35</td>\n",
       "      <td>22</td>\n",
       "      <td>Cereal Grains and Pasta</td>\n",
       "      <td>Pasta, dry, unenriched</td>\n",
       "      <td>80</td>\n",
       "      <td>9</td>\n",
       "      <td>456</td>\n",
       "      <td>2267</td>\n",
       "    </tr>\n",
       "    <tr>\n",
       "      <th>1</th>\n",
       "      <td>331</td>\n",
       "      <td>0.73</td>\n",
       "      <td>12</td>\n",
       "      <td>Cereal Grains and Pasta</td>\n",
       "      <td>Rice, white, long-grain, regular, cooked, unenriched, with salt</td>\n",
       "      <td>9</td>\n",
       "      <td>1</td>\n",
       "      <td>93</td>\n",
       "      <td>431</td>\n",
       "    </tr>\n",
       "    <tr>\n",
       "      <th>2</th>\n",
       "      <td>413</td>\n",
       "      <td>0.91</td>\n",
       "      <td>15</td>\n",
       "      <td>Finfish and Shellfish Products</td>\n",
       "      <td>Fish, tilapia, raw</td>\n",
       "      <td>83</td>\n",
       "      <td>7</td>\n",
       "      <td>0</td>\n",
       "      <td>397</td>\n",
       "    </tr>\n",
       "    <tr>\n",
       "      <th>3</th>\n",
       "      <td>373</td>\n",
       "      <td>0.82</td>\n",
       "      <td>13</td>\n",
       "      <td>Legumes and Legume Products</td>\n",
       "      <td>Beans, black turtle, mature seeds, cooked, boiled, without salt</td>\n",
       "      <td>31</td>\n",
       "      <td>1</td>\n",
       "      <td>91</td>\n",
       "      <td>485</td>\n",
       "    </tr>\n",
       "    <tr>\n",
       "      <th>4</th>\n",
       "      <td>252</td>\n",
       "      <td>0.56</td>\n",
       "      <td>9</td>\n",
       "      <td>Vegetables and Vegetable Products</td>\n",
       "      <td>Cauliflower, green, raw</td>\n",
       "      <td>7</td>\n",
       "      <td>1</td>\n",
       "      <td>15</td>\n",
       "      <td>78</td>\n",
       "    </tr>\n",
       "    <tr>\n",
       "      <th>5</th>\n",
       "      <td>245</td>\n",
       "      <td>0.54</td>\n",
       "      <td>9</td>\n",
       "      <td>Vegetables and Vegetable Products</td>\n",
       "      <td>Onions, raw</td>\n",
       "      <td>3</td>\n",
       "      <td>0</td>\n",
       "      <td>23</td>\n",
       "      <td>98</td>\n",
       "    </tr>\n",
       "    <tr>\n",
       "      <th>6</th>\n",
       "      <td>442</td>\n",
       "      <td>0.97</td>\n",
       "      <td>16</td>\n",
       "      <td>Beef Products</td>\n",
       "      <td>Beef, ribeye cap steak, boneless, separable lean only, trimmed to 0\" fat, choice, raw</td>\n",
       "      <td>86</td>\n",
       "      <td>50</td>\n",
       "      <td>8</td>\n",
       "      <td>826</td>\n",
       "    </tr>\n",
       "    <tr>\n",
       "      <th>7</th>\n",
       "      <td>426</td>\n",
       "      <td>0.94</td>\n",
       "      <td>15</td>\n",
       "      <td>Lamb, Veal, and Game Products</td>\n",
       "      <td>Lamb, Australian, imported, fresh, shoulder, blade, separable lean only, trimmed to 1/8\" fat, raw</td>\n",
       "      <td>81</td>\n",
       "      <td>39</td>\n",
       "      <td>0</td>\n",
       "      <td>699</td>\n",
       "    </tr>\n",
       "    <tr>\n",
       "      <th>8</th>\n",
       "      <td>419</td>\n",
       "      <td>0.92</td>\n",
       "      <td>15</td>\n",
       "      <td>Pork Products</td>\n",
       "      <td>Pork, fresh, enhanced, loin, tenderloin, separable lean only, raw</td>\n",
       "      <td>85</td>\n",
       "      <td>9</td>\n",
       "      <td>0</td>\n",
       "      <td>444</td>\n",
       "    </tr>\n",
       "    <tr>\n",
       "      <th>9</th>\n",
       "      <td>612</td>\n",
       "      <td>1.35</td>\n",
       "      <td>22</td>\n",
       "      <td>Nut and Seed Products</td>\n",
       "      <td>Seeds, sunflower seed kernels, toasted, without salt</td>\n",
       "      <td>105</td>\n",
       "      <td>348</td>\n",
       "      <td>126</td>\n",
       "      <td>3789</td>\n",
       "    </tr>\n",
       "    <tr>\n",
       "      <th>10</th>\n",
       "      <td>250</td>\n",
       "      <td>0.55</td>\n",
       "      <td>9</td>\n",
       "      <td>Fruits and Fruit Juices</td>\n",
       "      <td>Pomegranate juice, bottled</td>\n",
       "      <td>0</td>\n",
       "      <td>1</td>\n",
       "      <td>33</td>\n",
       "      <td>135</td>\n",
       "    </tr>\n",
       "    <tr>\n",
       "      <th>11</th>\n",
       "      <td>450</td>\n",
       "      <td>0.99</td>\n",
       "      <td>16</td>\n",
       "      <td>Poultry Products</td>\n",
       "      <td>Turkey, drumstick, from whole bird, meat only, raw</td>\n",
       "      <td>107</td>\n",
       "      <td>7</td>\n",
       "      <td>1</td>\n",
       "      <td>491</td>\n",
       "    </tr>\n",
       "    <tr>\n",
       "      <th>0</th>\n",
       "      <td>964.8</td>\n",
       "      <td>2.126</td>\n",
       "      <td>34.6</td>\n",
       "      <td>0</td>\n",
       "      <td>0</td>\n",
       "      <td>135.4</td>\n",
       "      <td>94.6</td>\n",
       "      <td>169.2</td>\n",
       "      <td>2028</td>\n",
       "    </tr>\n",
       "  </tbody>\n",
       "</table>\n",
       "</div>"
      ],
      "text/plain": [
       "   amount, g amount, lbs amount, oz                              group  \\\n",
       "0   611       1.35        22         Cereal Grains and Pasta             \n",
       "1   331       0.73        12         Cereal Grains and Pasta             \n",
       "2   413       0.91        15         Finfish and Shellfish Products      \n",
       "3   373       0.82        13         Legumes and Legume Products         \n",
       "4   252       0.56        9          Vegetables and Vegetable Products   \n",
       "5   245       0.54        9          Vegetables and Vegetable Products   \n",
       "6   442       0.97        16         Beef Products                       \n",
       "7   426       0.94        15         Lamb, Veal, and Game Products       \n",
       "8   419       0.92        15         Pork Products                       \n",
       "9   612       1.35        22         Nut and Seed Products               \n",
       "10  250       0.55        9          Fruits and Fruit Juices             \n",
       "11  450       0.99        16         Poultry Products                    \n",
       "0   964.8     2.126       34.6       0                                   \n",
       "\n",
       "                                                                                                 name  \\\n",
       "0   Pasta, dry, unenriched                                                                              \n",
       "1   Rice, white, long-grain, regular, cooked, unenriched, with salt                                     \n",
       "2   Fish, tilapia, raw                                                                                  \n",
       "3   Beans, black turtle, mature seeds, cooked, boiled, without salt                                     \n",
       "4   Cauliflower, green, raw                                                                             \n",
       "5   Onions, raw                                                                                         \n",
       "6   Beef, ribeye cap steak, boneless, separable lean only, trimmed to 0\" fat, choice, raw               \n",
       "7   Lamb, Australian, imported, fresh, shoulder, blade, separable lean only, trimmed to 1/8\" fat, raw   \n",
       "8   Pork, fresh, enhanced, loin, tenderloin, separable lean only, raw                                   \n",
       "9   Seeds, sunflower seed kernels, toasted, without salt                                                \n",
       "10  Pomegranate juice, bottled                                                                          \n",
       "11  Turkey, drumstick, from whole bird, meat only, raw                                                  \n",
       "0   0                                                                                                   \n",
       "\n",
       "   protein   fat  carbs energy  \n",
       "0   80      9     456    2267   \n",
       "1   9       1     93     431    \n",
       "2   83      7     0      397    \n",
       "3   31      1     91     485    \n",
       "4   7       1     15     78     \n",
       "5   3       0     23     98     \n",
       "6   86      50    8      826    \n",
       "7   81      39    0      699    \n",
       "8   85      9     0      444    \n",
       "9   105     348   126    3789   \n",
       "10  0       1     33     135    \n",
       "11  107     7     1      491    \n",
       "0   135.4   94.6  169.2  2028   "
      ]
     },
     "execution_count": 422,
     "metadata": {},
     "output_type": "execute_result"
    }
   ],
   "source": [
    "for p in picked:\n",
    "    for n in p['nutrients']:\n",
    "        if n['gm'] == '--':\n",
    "            n['gm'] = 0\n",
    "            \n",
    "x = np.array([[float(n[0]['gm']), float(n[1]['gm']), float(n[2]['gm']), float(n[3]['gm'])] \n",
    "              for n in [p['nutrients'] for p in picked]])\n",
    "init = [2]*len(x)\n",
    "bounds = tuple((0, None) for x in init)\n",
    "\n",
    "#\n",
    "\n",
    "# function to minimize\n",
    "n_days = 5\n",
    "def f(a):\n",
    "    pred = np.dot(a, x)\n",
    "    return mse(y*n_days, pred) #mean_absolute_error(y, pred)\n",
    "\n",
    "result = minimize(f, init, method='SLSQP', bounds=bounds)\n",
    "df = pd.DataFrame({'name': names, 'amount, g': np.round(result.x*100), \n",
    "                   'amount, oz': np.round(result.x*100*0.035274),\n",
    "                   'amount, lbs': np.around(result.x*100*0.00220462, 2),\n",
    "                   'group': groups,\n",
    "                   'protein': np.round(result.x*x[:, 0]),\n",
    "                   'fat': np.round(result.x*x[:, 1]),\n",
    "                   'carbs': np.round(result.x*x[:, 2]),\n",
    "                   'energy': np.round(result.x*x[:, 3]),\n",
    "                  }\n",
    "                  )\n",
    "df_sum = pd.DataFrame(df.sum(axis=0)).T\n",
    "df_sum[['name', 'group']] = [0, 0]\n",
    "df = pd.concat([df, df_sum/5.0])\n",
    "\n",
    "#\n",
    "\n",
    "print y\n",
    "print np.round(np.dot(result.x, x)/n_days)\n",
    "df[['amount, g', 'amount, lbs', 'amount, oz' ,'group','name','protein','fat','carbs', 'energy']]\n",
    "# print np.dot(np.where(result.x>0.1, result.x, 0), x)"
   ]
  }
 ],
 "metadata": {
  "kernelspec": {
   "display_name": "Python 2",
   "language": "python",
   "name": "python2"
  },
  "language_info": {
   "codemirror_mode": {
    "name": "ipython",
    "version": 2
   },
   "file_extension": ".py",
   "mimetype": "text/x-python",
   "name": "python",
   "nbconvert_exporter": "python",
   "pygments_lexer": "ipython2",
   "version": "2.7.6"
  },
  "toc": {
   "toc_cell": false,
   "toc_number_sections": false,
   "toc_threshold": 6,
   "toc_window_display": true
  }
 },
 "nbformat": 4,
 "nbformat_minor": 0
}
