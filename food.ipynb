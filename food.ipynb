{
 "cells": [
  {
   "cell_type": "code",
   "execution_count": 16,
   "metadata": {
    "ExecuteTime": {
     "end_time": "2016-03-09T16:46:10.212206",
     "start_time": "2016-03-09T16:46:10.208601"
    },
    "collapsed": true
   },
   "outputs": [],
   "source": [
    "import numpy as np\n",
    "import pandas as pd\n",
    "from scipy.optimize import fmin, minimize, fminbound\n",
    "\n",
    "from sklearn.metrics import mean_squared_error, mean_absolute_error\n",
    "\n",
    "import requests\n",
    "import json"
   ]
  },
  {
   "cell_type": "code",
   "execution_count": 17,
   "metadata": {
    "ExecuteTime": {
     "end_time": "2016-03-09T16:46:10.215104",
     "start_time": "2016-03-09T16:46:10.213355"
    },
    "collapsed": false
   },
   "outputs": [],
   "source": [
    "pd.set_option(\"display.max_colwidth\", 0)"
   ]
  },
  {
   "cell_type": "code",
   "execution_count": null,
   "metadata": {
    "ExecuteTime": {
     "end_time": "2016-03-08T20:46:12.051192",
     "start_time": "2016-03-08T20:46:12.049160"
    },
    "collapsed": false
   },
   "outputs": [],
   "source": []
  },
  {
   "cell_type": "code",
   "execution_count": null,
   "metadata": {
    "collapsed": true
   },
   "outputs": [],
   "source": []
  },
  {
   "cell_type": "code",
   "execution_count": 18,
   "metadata": {
    "ExecuteTime": {
     "end_time": "2016-03-09T16:46:10.217757",
     "start_time": "2016-03-09T16:46:10.216061"
    },
    "collapsed": false
   },
   "outputs": [],
   "source": [
    "# x11 = 1; x12 = 2; x13 = 3\n",
    "# x1 = [x11*4+x12*4+x13*8, x11, x12, x13]\n",
    "# x21 = 4; x22 = 3; x23 = 2\n",
    "# x2 = [x21*4+x22*4+x23*8, x21, x22, x23]"
   ]
  },
  {
   "cell_type": "code",
   "execution_count": 19,
   "metadata": {
    "ExecuteTime": {
     "end_time": "2016-03-09T16:46:10.220242",
     "start_time": "2016-03-09T16:46:10.218738"
    },
    "collapsed": false
   },
   "outputs": [],
   "source": [
    "# x = np.array([x1, x2])"
   ]
  },
  {
   "cell_type": "code",
   "execution_count": 20,
   "metadata": {
    "ExecuteTime": {
     "end_time": "2016-03-09T16:46:10.223408",
     "start_time": "2016-03-09T16:46:10.221155"
    },
    "collapsed": false
   },
   "outputs": [],
   "source": [
    "# Daily goal\n",
    "y1 = 136; y2 = 95; y3 = 170\n",
    "y = np.array([y1, y2, y3, y1*4+y2*8+y3*4])"
   ]
  },
  {
   "cell_type": "code",
   "execution_count": 21,
   "metadata": {
    "ExecuteTime": {
     "end_time": "2016-03-09T16:46:10.227279",
     "start_time": "2016-03-09T16:46:10.224455"
    },
    "collapsed": false
   },
   "outputs": [
    {
     "data": {
      "text/plain": [
       "array([ 136,   95,  170, 1984])"
      ]
     },
     "execution_count": 21,
     "metadata": {},
     "output_type": "execute_result"
    }
   ],
   "source": [
    "y"
   ]
  },
  {
   "cell_type": "code",
   "execution_count": 22,
   "metadata": {
    "ExecuteTime": {
     "end_time": "2016-03-09T16:46:10.230256",
     "start_time": "2016-03-09T16:46:10.228215"
    },
    "collapsed": true
   },
   "outputs": [],
   "source": [
    "# Relative MSE\n",
    "def mse(A, B):\n",
    "    return (((A - B)/A) ** 2).mean(axis=0)"
   ]
  },
  {
   "cell_type": "code",
   "execution_count": null,
   "metadata": {
    "ExecuteTime": {
     "end_time": "2016-03-09T15:54:44.111957",
     "start_time": "2016-03-09T15:54:44.108960"
    },
    "collapsed": false
   },
   "outputs": [],
   "source": []
  },
  {
   "cell_type": "code",
   "execution_count": 23,
   "metadata": {
    "ExecuteTime": {
     "end_time": "2016-03-09T16:46:10.232628",
     "start_time": "2016-03-09T16:46:10.231182"
    },
    "collapsed": false
   },
   "outputs": [],
   "source": [
    "# init = [2]*len(x)\n",
    "# bounds = tuple((0, None) for x in init)"
   ]
  },
  {
   "cell_type": "code",
   "execution_count": 24,
   "metadata": {
    "ExecuteTime": {
     "end_time": "2016-03-09T16:46:10.234984",
     "start_time": "2016-03-09T16:46:10.233536"
    },
    "collapsed": false
   },
   "outputs": [],
   "source": [
    "# result = minimize(f, init, method='SLSQP', bounds=bounds)\n",
    "# result"
   ]
  },
  {
   "cell_type": "code",
   "execution_count": 25,
   "metadata": {
    "ExecuteTime": {
     "end_time": "2016-03-09T16:46:10.237329",
     "start_time": "2016-03-09T16:46:10.235900"
    },
    "collapsed": false
   },
   "outputs": [],
   "source": [
    "# print y\n",
    "# print np.dot(result.x, x)"
   ]
  },
  {
   "cell_type": "code",
   "execution_count": null,
   "metadata": {
    "collapsed": true
   },
   "outputs": [],
   "source": []
  },
  {
   "cell_type": "code",
   "execution_count": 26,
   "metadata": {
    "ExecuteTime": {
     "end_time": "2016-03-09T16:46:10.313525",
     "start_time": "2016-03-09T16:46:10.311396"
    },
    "collapsed": true
   },
   "outputs": [],
   "source": [
    "apikey = '3jklPYmeuoykAvPVFSkTTXycJlxupddyBKtItMzg'"
   ]
  },
  {
   "cell_type": "code",
   "execution_count": 27,
   "metadata": {
    "ExecuteTime": {
     "end_time": "2016-03-09T16:46:10.316194",
     "start_time": "2016-03-09T16:46:10.314687"
    },
    "collapsed": false
   },
   "outputs": [],
   "source": [
    "# [n['nutrient'] for n in picked[0]['nutrients']]"
   ]
  },
  {
   "cell_type": "code",
   "execution_count": 28,
   "metadata": {
    "ExecuteTime": {
     "end_time": "2016-03-09T16:46:10.319257",
     "start_time": "2016-03-09T16:46:10.317178"
    },
    "collapsed": false
   },
   "outputs": [],
   "source": [
    "# payload = {'api_key': apikey,\n",
    "#            'fg': ['0500', '1300', '1500', '0900', '1700', '1600', '1200', '1000', '0500', '1100'],\n",
    "#            'nutrients': [208, 203, 205, 204],\n",
    "#            'max': 1500,\n",
    "#           }\n",
    "# r = requests.get('http://api.nal.usda.gov/ndb/nutrients/', params=payload)\n",
    "# foods = json.loads(r.text)['report']['foods']"
   ]
  },
  {
   "cell_type": "code",
   "execution_count": 29,
   "metadata": {
    "ExecuteTime": {
     "end_time": "2016-03-09T16:46:19.962876",
     "start_time": "2016-03-09T16:46:10.320212"
    },
    "collapsed": false
   },
   "outputs": [
    {
     "name": "stdout",
     "output_type": "stream",
     "text": [
      "0500 1300 1500 0900 1700 1600 1200 1000 0500 1100\n"
     ]
    }
   ],
   "source": [
    "foods = {}\n",
    "for fg in ['0500', '1300', '1500', '0900', '1700', '1600', '1200', '1000', '0500', '1100']:\n",
    "    print fg,\n",
    "    payload = {'api_key': apikey,\n",
    "               'fg': fg,\n",
    "               'nutrients': [208, 203, 205, 204],\n",
    "               'max': 1500,\n",
    "               'subset': 1\n",
    "              }\n",
    "    r = requests.get('http://api.nal.usda.gov/ndb/nutrients/', params=payload)\n",
    "    report = json.loads(r.text)['report']\n",
    "    foods[str(report['groups'][0]['description'])] = report['foods']"
   ]
  },
  {
   "cell_type": "code",
   "execution_count": 30,
   "metadata": {
    "ExecuteTime": {
     "end_time": "2016-03-09T16:46:19.967222",
     "start_time": "2016-03-09T16:46:19.964096"
    },
    "collapsed": false
   },
   "outputs": [
    {
     "data": {
      "text/plain": [
       "['Finfish and Shellfish Products',\n",
       " 'Legumes and Legume Products',\n",
       " 'Vegetables and Vegetable Products',\n",
       " 'Beef Products',\n",
       " 'Lamb, Veal, and Game Products',\n",
       " 'Pork Products',\n",
       " 'Nut and Seed Products',\n",
       " 'Fruits and Fruit Juices',\n",
       " 'Poultry Products']"
      ]
     },
     "execution_count": 30,
     "metadata": {},
     "output_type": "execute_result"
    }
   ],
   "source": [
    "foods.keys()"
   ]
  },
  {
   "cell_type": "code",
   "execution_count": 31,
   "metadata": {
    "ExecuteTime": {
     "end_time": "2016-03-09T16:46:19.988503",
     "start_time": "2016-03-09T16:46:19.975160"
    },
    "collapsed": false
   },
   "outputs": [],
   "source": [
    "picked = []\n",
    "groups = []\n",
    "for k, v in foods.items():\n",
    "    if k in ['Vegetables and Vegetable Products']:\n",
    "        size = 3\n",
    "    else:\n",
    "        size = 1\n",
    "    if k in ['Finfish and Shellfish Products', 'Beef Products', 'Lamb, Veal, and Game Products', 'Pork Products', 'Poultry Products', 'Vegetables and Vegetable Products']:\n",
    "        v = [i for i in v if 'raw' in i['name']]\n",
    "    p = np.random.choice(v, size, False)\n",
    "    picked.append(p)\n",
    "    for i in range(size):\n",
    "        groups.append(k)\n",
    "picked = np.hstack(picked)"
   ]
  },
  {
   "cell_type": "code",
   "execution_count": 90,
   "metadata": {
    "ExecuteTime": {
     "end_time": "2016-03-09T17:00:50.751369",
     "start_time": "2016-03-09T17:00:50.745392"
    },
    "collapsed": true
   },
   "outputs": [],
   "source": [
    "def refresh(idx):\n",
    "    for i, k in enumerate(groups):\n",
    "        v = foods[k]\n",
    "        if i == idx:\n",
    "            if k in ['Finfish and Shellfish Products', 'Beef Products', 'Lamb, Veal, and Game Products', 'Pork Products', 'Poultry Products', 'Vegetables and Vegetable Products']:\n",
    "                v = [i for i in v if 'raw' in i['name']]\n",
    "            p = np.random.choice(v, 1, False)\n",
    "          \n",
    "            print 'Replaced {} with {}'.format(picked[idx]['name'], p[0]['name'])\n",
    "            picked[idx] = p[0]\n",
    "    return [p['name'] for p in picked]"
   ]
  },
  {
   "cell_type": "code",
   "execution_count": 99,
   "metadata": {
    "ExecuteTime": {
     "end_time": "2016-03-09T17:01:09.579233",
     "start_time": "2016-03-09T17:01:09.576792"
    },
    "collapsed": false
   },
   "outputs": [
    {
     "name": "stdout",
     "output_type": "stream",
     "text": [
      "Replaced Cress, garden, raw with Peas, edible-podded, raw\n"
     ]
    }
   ],
   "source": [
    "names = refresh(4)"
   ]
  },
  {
   "cell_type": "code",
   "execution_count": 100,
   "metadata": {
    "ExecuteTime": {
     "end_time": "2016-03-09T17:01:09.739921",
     "start_time": "2016-03-09T17:01:09.735462"
    },
    "collapsed": false,
    "scrolled": true
   },
   "outputs": [],
   "source": [
    "x = np.array([[float(n[0]['gm']), float(n[1]['gm']), float(n[2]['gm']), float(n[3]['gm'])] \n",
    "              for n in [p['nutrients'] for p in picked]])\n",
    "init = [2]*len(x)\n",
    "bounds = tuple((0, None) for x in init)"
   ]
  },
  {
   "cell_type": "code",
   "execution_count": 105,
   "metadata": {
    "ExecuteTime": {
     "end_time": "2016-03-09T17:35:17.801640",
     "start_time": "2016-03-09T17:35:17.784292"
    },
    "collapsed": false
   },
   "outputs": [],
   "source": [
    "# function to minimize\n",
    "n_days = 5\n",
    "def f(a):\n",
    "    pred = np.dot(a, x)\n",
    "    return mse(y*n_days, pred) #mean_absolute_error(y, pred)\n",
    "\n",
    "result = minimize(f, init, method='SLSQP', bounds=bounds)\n",
    "df = pd.DataFrame({'name': names, 'amount, g': np.round(result.x*100), \n",
    "                   'amount, oz': np.round(result.x*100*0.035274),\n",
    "                   'amount, lbs': np.around(result.x*100*0.00220462, 2),\n",
    "                   'group': groups})"
   ]
  },
  {
   "cell_type": "code",
   "execution_count": 106,
   "metadata": {
    "ExecuteTime": {
     "end_time": "2016-03-09T17:35:18.463019",
     "start_time": "2016-03-09T17:35:18.442869"
    },
    "collapsed": false
   },
   "outputs": [
    {
     "name": "stdout",
     "output_type": "stream",
     "text": [
      "[ 136   95  170 1984]\n",
      "[  136.    95.   170.  1982.]\n"
     ]
    },
    {
     "data": {
      "text/html": [
       "<div>\n",
       "<table border=\"1\" class=\"dataframe\">\n",
       "  <thead>\n",
       "    <tr style=\"text-align: right;\">\n",
       "      <th></th>\n",
       "      <th>amount, g</th>\n",
       "      <th>amount, lbs</th>\n",
       "      <th>amount, oz</th>\n",
       "      <th>group</th>\n",
       "      <th>name</th>\n",
       "    </tr>\n",
       "  </thead>\n",
       "  <tbody>\n",
       "    <tr>\n",
       "      <th>0</th>\n",
       "      <td>594</td>\n",
       "      <td>1.31</td>\n",
       "      <td>21</td>\n",
       "      <td>Finfish and Shellfish Products</td>\n",
       "      <td>Fish, haddock, raw</td>\n",
       "    </tr>\n",
       "    <tr>\n",
       "      <th>1</th>\n",
       "      <td>880</td>\n",
       "      <td>1.94</td>\n",
       "      <td>31</td>\n",
       "      <td>Legumes and Legume Products</td>\n",
       "      <td>LOMA LINDA Linketts, canned, unprepared</td>\n",
       "    </tr>\n",
       "    <tr>\n",
       "      <th>2</th>\n",
       "      <td>721</td>\n",
       "      <td>1.59</td>\n",
       "      <td>25</td>\n",
       "      <td>Vegetables and Vegetable Products</td>\n",
       "      <td>Arugula, raw</td>\n",
       "    </tr>\n",
       "    <tr>\n",
       "      <th>3</th>\n",
       "      <td>1071</td>\n",
       "      <td>2.36</td>\n",
       "      <td>38</td>\n",
       "      <td>Vegetables and Vegetable Products</td>\n",
       "      <td>Cauliflower, green, raw</td>\n",
       "    </tr>\n",
       "    <tr>\n",
       "      <th>4</th>\n",
       "      <td>1285</td>\n",
       "      <td>2.83</td>\n",
       "      <td>45</td>\n",
       "      <td>Vegetables and Vegetable Products</td>\n",
       "      <td>Peas, edible-podded, raw</td>\n",
       "    </tr>\n",
       "    <tr>\n",
       "      <th>5</th>\n",
       "      <td>622</td>\n",
       "      <td>1.37</td>\n",
       "      <td>22</td>\n",
       "      <td>Beef Products</td>\n",
       "      <td>Beef, ribeye  petite roast/filet, boneless, separable lean only, trimmed to 0\" fat, select, raw</td>\n",
       "    </tr>\n",
       "    <tr>\n",
       "      <th>6</th>\n",
       "      <td>202</td>\n",
       "      <td>0.44</td>\n",
       "      <td>7</td>\n",
       "      <td>Lamb, Veal, and Game Products</td>\n",
       "      <td>Lamb, Australian, imported, fresh, foreshank, separable lean and fat, trimmed to 1/8\" fat, raw</td>\n",
       "    </tr>\n",
       "    <tr>\n",
       "      <th>7</th>\n",
       "      <td>227</td>\n",
       "      <td>0.50</td>\n",
       "      <td>8</td>\n",
       "      <td>Pork Products</td>\n",
       "      <td>Pork, fresh, shoulder, (Boston butt), blade (steaks), separable lean and fat,with added solution, raw</td>\n",
       "    </tr>\n",
       "    <tr>\n",
       "      <th>8</th>\n",
       "      <td>463</td>\n",
       "      <td>1.02</td>\n",
       "      <td>16</td>\n",
       "      <td>Nut and Seed Products</td>\n",
       "      <td>Nuts, hazelnuts or filberts</td>\n",
       "    </tr>\n",
       "    <tr>\n",
       "      <th>9</th>\n",
       "      <td>2825</td>\n",
       "      <td>6.23</td>\n",
       "      <td>100</td>\n",
       "      <td>Fruits and Fruit Juices</td>\n",
       "      <td>Cherries, sour, red, canned, light syrup pack, solids and liquids</td>\n",
       "    </tr>\n",
       "    <tr>\n",
       "      <th>10</th>\n",
       "      <td>0</td>\n",
       "      <td>0.00</td>\n",
       "      <td>0</td>\n",
       "      <td>Poultry Products</td>\n",
       "      <td>Squab, (pigeon), meat and skin, raw</td>\n",
       "    </tr>\n",
       "  </tbody>\n",
       "</table>\n",
       "</div>"
      ],
      "text/plain": [
       "    amount, g  amount, lbs  amount, oz                              group  \\\n",
       "0   594        1.31         21          Finfish and Shellfish Products      \n",
       "1   880        1.94         31          Legumes and Legume Products         \n",
       "2   721        1.59         25          Vegetables and Vegetable Products   \n",
       "3   1071       2.36         38          Vegetables and Vegetable Products   \n",
       "4   1285       2.83         45          Vegetables and Vegetable Products   \n",
       "5   622        1.37         22          Beef Products                       \n",
       "6   202        0.44         7           Lamb, Veal, and Game Products       \n",
       "7   227        0.50         8           Pork Products                       \n",
       "8   463        1.02         16          Nut and Seed Products               \n",
       "9   2825       6.23         100         Fruits and Fruit Juices             \n",
       "10  0          0.00         0           Poultry Products                    \n",
       "\n",
       "                                                                                                     name  \n",
       "0   Fish, haddock, raw                                                                                     \n",
       "1   LOMA LINDA Linketts, canned, unprepared                                                                \n",
       "2   Arugula, raw                                                                                           \n",
       "3   Cauliflower, green, raw                                                                                \n",
       "4   Peas, edible-podded, raw                                                                               \n",
       "5   Beef, ribeye  petite roast/filet, boneless, separable lean only, trimmed to 0\" fat, select, raw        \n",
       "6   Lamb, Australian, imported, fresh, foreshank, separable lean and fat, trimmed to 1/8\" fat, raw         \n",
       "7   Pork, fresh, shoulder, (Boston butt), blade (steaks), separable lean and fat,with added solution, raw  \n",
       "8   Nuts, hazelnuts or filberts                                                                            \n",
       "9   Cherries, sour, red, canned, light syrup pack, solids and liquids                                      \n",
       "10  Squab, (pigeon), meat and skin, raw                                                                    "
      ]
     },
     "execution_count": 106,
     "metadata": {},
     "output_type": "execute_result"
    }
   ],
   "source": [
    "print y\n",
    "print np.round(np.dot(result.x, x)/5)\n",
    "df\n",
    "# print np.dot(np.where(result.x>0.1, result.x, 0), x)"
   ]
  },
  {
   "cell_type": "code",
   "execution_count": null,
   "metadata": {
    "collapsed": true
   },
   "outputs": [],
   "source": []
  }
 ],
 "metadata": {
  "kernelspec": {
   "display_name": "Python 2",
   "language": "python",
   "name": "python2"
  },
  "language_info": {
   "codemirror_mode": {
    "name": "ipython",
    "version": 2
   },
   "file_extension": ".py",
   "mimetype": "text/x-python",
   "name": "python",
   "nbconvert_exporter": "python",
   "pygments_lexer": "ipython2",
   "version": "2.7.6"
  },
  "toc": {
   "toc_cell": false,
   "toc_number_sections": false,
   "toc_threshold": 6,
   "toc_window_display": true
  }
 },
 "nbformat": 4,
 "nbformat_minor": 0
}
